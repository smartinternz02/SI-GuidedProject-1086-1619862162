{
 "cells": [
  {
   "cell_type": "code",
   "execution_count": 1,
   "metadata": {},
   "outputs": [],
   "source": [
    "from tensorflow.keras.models import Sequential\n",
    "from tensorflow.keras.layers import Dense\n",
    "from tensorflow.keras.layers import Convolution2D\n",
    "from tensorflow.keras.layers import MaxPooling2D\n",
    "from tensorflow.keras.layers import Flatten"
   ]
  },
  {
   "cell_type": "code",
   "execution_count": 2,
   "metadata": {},
   "outputs": [
    {
     "name": "stderr",
     "output_type": "stream",
     "text": [
      "Using TensorFlow backend.\n"
     ]
    }
   ],
   "source": [
    "from keras.preprocessing.image import ImageDataGenerator\n",
    "train_datagen=ImageDataGenerator(rescale=1./255,shear_range=0.2,zoom_range=0.2,horizontal_flip=True)\n",
    "test_datagen=ImageDataGenerator(rescale=1./255)"
   ]
  },
  {
   "cell_type": "code",
   "execution_count": 3,
   "metadata": {},
   "outputs": [
    {
     "name": "stdout",
     "output_type": "stream",
     "text": [
      "Found 1677 images belonging to 5 classes.\n",
      "Found 750 images belonging to 5 classes.\n"
     ]
    }
   ],
   "source": [
    "x_train=train_datagen.flow_from_directory(r\"C:\\Users\\user\\Downloads\\flowers\\flowers\\trainset\",target_size = (64,64) , batch_size = 32 , class_mode = \"categorical\")\n",
    "x_test=test_datagen.flow_from_directory(r\"C:\\Users\\user\\Downloads\\flowers\\flowers\\testset\",target_size = (64,64) , batch_size = 32 , class_mode = \"categorical\")"
   ]
  },
  {
   "cell_type": "code",
   "execution_count": 4,
   "metadata": {},
   "outputs": [],
   "source": [
    "model=Sequential()"
   ]
  },
  {
   "cell_type": "code",
   "execution_count": 5,
   "metadata": {},
   "outputs": [
    {
     "name": "stdout",
     "output_type": "stream",
     "text": [
      "WARNING:tensorflow:From C:\\Users\\user\\Anaconda3\\lib\\site-packages\\tensorflow\\python\\ops\\init_ops.py:1251: calling VarianceScaling.__init__ (from tensorflow.python.ops.init_ops) with dtype is deprecated and will be removed in a future version.\n",
      "Instructions for updating:\n",
      "Call initializer instance with the dtype argument instead of passing it to the constructor\n"
     ]
    }
   ],
   "source": [
    "model.add(Convolution2D(32,(3,3),input_shape=(64,64,3),activation=\"relu\"))"
   ]
  },
  {
   "cell_type": "code",
   "execution_count": 6,
   "metadata": {},
   "outputs": [],
   "source": [
    "model.add(MaxPooling2D(2,2))"
   ]
  },
  {
   "cell_type": "code",
   "execution_count": 7,
   "metadata": {},
   "outputs": [],
   "source": [
    "model.add(Flatten())"
   ]
  },
  {
   "cell_type": "code",
   "execution_count": 8,
   "metadata": {},
   "outputs": [
    {
     "name": "stdout",
     "output_type": "stream",
     "text": [
      "WARNING:tensorflow:From C:\\Users\\user\\Anaconda3\\lib\\site-packages\\tensorflow\\python\\keras\\initializers.py:119: calling RandomUniform.__init__ (from tensorflow.python.ops.init_ops) with dtype is deprecated and will be removed in a future version.\n",
      "Instructions for updating:\n",
      "Call initializer instance with the dtype argument instead of passing it to the constructor\n"
     ]
    }
   ],
   "source": [
    "model.add(Dense(units=512,activation=\"relu\",kernel_initializer=\"random_uniform\"))"
   ]
  },
  {
   "cell_type": "code",
   "execution_count": 9,
   "metadata": {},
   "outputs": [],
   "source": [
    "model.add(Dense(units=5,activation=\"softmax\",kernel_initializer=\"random_uniform\"))"
   ]
  },
  {
   "cell_type": "code",
   "execution_count": 10,
   "metadata": {},
   "outputs": [],
   "source": [
    "model.compile(\"sgd\",loss=\"categorical_crossentropy\",metrics=[\"accuracy\"])"
   ]
  },
  {
   "cell_type": "code",
   "execution_count": 11,
   "metadata": {},
   "outputs": [
    {
     "name": "stdout",
     "output_type": "stream",
     "text": [
      "Epoch 1/25\n",
      "45/45 [==============================] - 73s 2s/step - loss: 1.5449 - acc: 0.3174 - val_loss: 1.5058 - val_acc: 0.3344\n",
      "Epoch 2/25\n",
      "45/45 [==============================] - 73s 2s/step - loss: 1.4390 - acc: 0.3519 - val_loss: 1.3926 - val_acc: 0.4313\n",
      "Epoch 3/25\n",
      "45/45 [==============================] - 75s 2s/step - loss: 1.3346 - acc: 0.4433 - val_loss: 1.3468 - val_acc: 0.4078\n",
      "Epoch 4/25\n",
      "45/45 [==============================] - 69s 2s/step - loss: 1.2739 - acc: 0.4490 - val_loss: 1.3084 - val_acc: 0.4516\n",
      "Epoch 5/25\n",
      "45/45 [==============================] - 59s 1s/step - loss: 1.2345 - acc: 0.4729 - val_loss: 1.3284 - val_acc: 0.4484\n",
      "Epoch 6/25\n",
      "45/45 [==============================] - 59s 1s/step - loss: 1.2138 - acc: 0.4722 - val_loss: 1.3422 - val_acc: 0.4062\n",
      "Epoch 7/25\n",
      "45/45 [==============================] - 62s 1s/step - loss: 1.1944 - acc: 0.4954 - val_loss: 1.2681 - val_acc: 0.4375\n",
      "Epoch 8/25\n",
      "45/45 [==============================] - 59s 1s/step - loss: 1.1681 - acc: 0.5165 - val_loss: 1.1892 - val_acc: 0.5078\n",
      "Epoch 9/25\n",
      "45/45 [==============================] - 60s 1s/step - loss: 1.1311 - acc: 0.5306 - val_loss: 1.2905 - val_acc: 0.4469\n",
      "Epoch 10/25\n",
      "45/45 [==============================] - 58s 1s/step - loss: 1.1380 - acc: 0.5235 - val_loss: 1.2023 - val_acc: 0.4953\n",
      "Epoch 11/25\n",
      "45/45 [==============================] - 60s 1s/step - loss: 1.1023 - acc: 0.5507 - val_loss: 1.1818 - val_acc: 0.5125\n",
      "Epoch 12/25\n",
      "45/45 [==============================] - 59s 1s/step - loss: 1.0714 - acc: 0.5700 - val_loss: 1.1983 - val_acc: 0.4984\n",
      "Epoch 13/25\n",
      "45/45 [==============================] - 60s 1s/step - loss: 1.0803 - acc: 0.5545 - val_loss: 1.2030 - val_acc: 0.5109\n",
      "Epoch 14/25\n",
      "45/45 [==============================] - 55s 1s/step - loss: 1.0517 - acc: 0.5693 - val_loss: 1.2787 - val_acc: 0.4641\n",
      "Epoch 15/25\n",
      "45/45 [==============================] - 59s 1s/step - loss: 1.0460 - acc: 0.5896 - val_loss: 1.3260 - val_acc: 0.4563\n",
      "Epoch 16/25\n",
      "45/45 [==============================] - 58s 1s/step - loss: 1.0379 - acc: 0.5947 - val_loss: 1.1507 - val_acc: 0.5375\n",
      "Epoch 17/25\n",
      "45/45 [==============================] - 58s 1s/step - loss: 1.0040 - acc: 0.6113 - val_loss: 1.2363 - val_acc: 0.5078\n",
      "Epoch 18/25\n",
      "45/45 [==============================] - 58s 1s/step - loss: 1.0328 - acc: 0.5896 - val_loss: 1.2018 - val_acc: 0.5063\n",
      "Epoch 19/25\n",
      "45/45 [==============================] - 58s 1s/step - loss: 0.9760 - acc: 0.6151 - val_loss: 1.1822 - val_acc: 0.5094\n",
      "Epoch 20/25\n",
      "45/45 [==============================] - 54s 1s/step - loss: 0.9882 - acc: 0.6066 - val_loss: 1.1768 - val_acc: 0.5016\n",
      "Epoch 21/25\n",
      "45/45 [==============================] - 59s 1s/step - loss: 0.9930 - acc: 0.6101 - val_loss: 1.2573 - val_acc: 0.5156\n",
      "Epoch 22/25\n",
      "45/45 [==============================] - 66s 1s/step - loss: 0.9309 - acc: 0.6460 - val_loss: 1.1621 - val_acc: 0.5344\n",
      "Epoch 23/25\n",
      "45/45 [==============================] - 65s 1s/step - loss: 0.9712 - acc: 0.6160 - val_loss: 1.2655 - val_acc: 0.4938\n",
      "Epoch 24/25\n",
      "45/45 [==============================] - 59s 1s/step - loss: 0.9459 - acc: 0.6334 - val_loss: 1.2247 - val_acc: 0.5203\n",
      "Epoch 25/25\n",
      "45/45 [==============================] - 60s 1s/step - loss: 0.9678 - acc: 0.6243 - val_loss: 1.3016 - val_acc: 0.4797\n"
     ]
    },
    {
     "data": {
      "text/plain": [
       "<tensorflow.python.keras.callbacks.History at 0x1c5985694e0>"
      ]
     },
     "execution_count": 11,
     "metadata": {},
     "output_type": "execute_result"
    }
   ],
   "source": [
    "model.fit_generator(x_train ,steps_per_epoch = 45,epochs=25, validation_data=x_test ,validation_steps = 20)"
   ]
  },
  {
   "cell_type": "code",
   "execution_count": 12,
   "metadata": {},
   "outputs": [],
   "source": [
    "model.save(\"flowers.h5\")"
   ]
  },
  {
   "cell_type": "code",
   "execution_count": 13,
   "metadata": {},
   "outputs": [],
   "source": [
    "from tensorflow.keras.models import load_model\n",
    "from tensorflow.keras.preprocessing import image\n",
    "import cv2\n",
    "import numpy as np"
   ]
  },
  {
   "cell_type": "code",
   "execution_count": 14,
   "metadata": {},
   "outputs": [],
   "source": [
    "index=[\"daisy\",\"dandelion\",\"rose\",\"sunflower\",\"tulip\"]"
   ]
  },
  {
   "cell_type": "code",
   "execution_count": 15,
   "metadata": {},
   "outputs": [
    {
     "name": "stdout",
     "output_type": "stream",
     "text": [
      "WARNING:tensorflow:From C:\\Users\\user\\Anaconda3\\lib\\site-packages\\tensorflow\\python\\ops\\init_ops.py:97: calling GlorotUniform.__init__ (from tensorflow.python.ops.init_ops) with dtype is deprecated and will be removed in a future version.\n",
      "Instructions for updating:\n",
      "Call initializer instance with the dtype argument instead of passing it to the constructor\n",
      "WARNING:tensorflow:From C:\\Users\\user\\Anaconda3\\lib\\site-packages\\tensorflow\\python\\ops\\init_ops.py:97: calling Zeros.__init__ (from tensorflow.python.ops.init_ops) with dtype is deprecated and will be removed in a future version.\n",
      "Instructions for updating:\n",
      "Call initializer instance with the dtype argument instead of passing it to the constructor\n"
     ]
    }
   ],
   "source": [
    "model=load_model(\"flowers.h5\")"
   ]
  },
  {
   "cell_type": "code",
   "execution_count": 16,
   "metadata": {},
   "outputs": [],
   "source": [
    "img=image.load_img(r\"C:users\\user\\Downloads\\rose.jpg\",target_size=(64,64))"
   ]
  },
  {
   "cell_type": "code",
   "execution_count": 17,
   "metadata": {},
   "outputs": [
    {
     "data": {
      "text/plain": [
       "PIL.Image.Image"
      ]
     },
     "execution_count": 17,
     "metadata": {},
     "output_type": "execute_result"
    }
   ],
   "source": [
    "type(img)"
   ]
  },
  {
   "cell_type": "code",
   "execution_count": 18,
   "metadata": {},
   "outputs": [],
   "source": [
    "x=image.img_to_array(img)"
   ]
  },
  {
   "cell_type": "code",
   "execution_count": 19,
   "metadata": {},
   "outputs": [
    {
     "data": {
      "text/plain": [
       "numpy.ndarray"
      ]
     },
     "execution_count": 19,
     "metadata": {},
     "output_type": "execute_result"
    }
   ],
   "source": [
    "type(x)"
   ]
  },
  {
   "cell_type": "code",
   "execution_count": 20,
   "metadata": {},
   "outputs": [
    {
     "data": {
      "text/plain": [
       "(64, 64, 3)"
      ]
     },
     "execution_count": 20,
     "metadata": {},
     "output_type": "execute_result"
    }
   ],
   "source": [
    "x.shape"
   ]
  },
  {
   "cell_type": "code",
   "execution_count": 21,
   "metadata": {},
   "outputs": [],
   "source": [
    "x=np.expand_dims(x,axis=0)"
   ]
  },
  {
   "cell_type": "code",
   "execution_count": 22,
   "metadata": {},
   "outputs": [
    {
     "data": {
      "text/plain": [
       "(1, 64, 64, 3)"
      ]
     },
     "execution_count": 22,
     "metadata": {},
     "output_type": "execute_result"
    }
   ],
   "source": [
    "x.shape"
   ]
  },
  {
   "cell_type": "code",
   "execution_count": 23,
   "metadata": {},
   "outputs": [],
   "source": [
    "pred=model.predict_classes(x)"
   ]
  },
  {
   "cell_type": "code",
   "execution_count": 24,
   "metadata": {},
   "outputs": [
    {
     "data": {
      "text/plain": [
       "2"
      ]
     },
     "execution_count": 24,
     "metadata": {},
     "output_type": "execute_result"
    }
   ],
   "source": [
    "pred[0]"
   ]
  },
  {
   "cell_type": "code",
   "execution_count": 25,
   "metadata": {},
   "outputs": [
    {
     "name": "stdout",
     "output_type": "stream",
     "text": [
      "rose\n"
     ]
    }
   ],
   "source": [
    "print(index[pred[0]])"
   ]
  },
  {
   "cell_type": "code",
   "execution_count": null,
   "metadata": {},
   "outputs": [],
   "source": []
  }
 ],
 "metadata": {
  "kernelspec": {
   "display_name": "Python 3",
   "language": "python",
   "name": "python3"
  },
  "language_info": {
   "codemirror_mode": {
    "name": "ipython",
    "version": 3
   },
   "file_extension": ".py",
   "mimetype": "text/x-python",
   "name": "python",
   "nbconvert_exporter": "python",
   "pygments_lexer": "ipython3",
   "version": "3.7.3"
  }
 },
 "nbformat": 4,
 "nbformat_minor": 2
}
