{
 "cells": [
  {
   "cell_type": "code",
   "execution_count": 1,
   "metadata": {},
   "outputs": [],
   "source": [
    "import numpy as np\n",
    "import pandas as pd"
   ]
  },
  {
   "cell_type": "code",
   "execution_count": 2,
   "metadata": {},
   "outputs": [],
   "source": [
    "data=pd.read_csv(r\"C:\\Users\\user\\Downloads\\healthcare-dataset-stroke-data.csv\")"
   ]
  },
  {
   "cell_type": "code",
   "execution_count": 3,
   "metadata": {},
   "outputs": [
    {
     "data": {
      "text/html": [
       "<div>\n",
       "<style scoped>\n",
       "    .dataframe tbody tr th:only-of-type {\n",
       "        vertical-align: middle;\n",
       "    }\n",
       "\n",
       "    .dataframe tbody tr th {\n",
       "        vertical-align: top;\n",
       "    }\n",
       "\n",
       "    .dataframe thead th {\n",
       "        text-align: right;\n",
       "    }\n",
       "</style>\n",
       "<table border=\"1\" class=\"dataframe\">\n",
       "  <thead>\n",
       "    <tr style=\"text-align: right;\">\n",
       "      <th></th>\n",
       "      <th>id</th>\n",
       "      <th>gender</th>\n",
       "      <th>age</th>\n",
       "      <th>hypertension</th>\n",
       "      <th>heart_disease</th>\n",
       "      <th>ever_married</th>\n",
       "      <th>work_type</th>\n",
       "      <th>Residence_type</th>\n",
       "      <th>avg_glucose_level</th>\n",
       "      <th>bmi</th>\n",
       "      <th>smoking_status</th>\n",
       "      <th>stroke</th>\n",
       "    </tr>\n",
       "  </thead>\n",
       "  <tbody>\n",
       "    <tr>\n",
       "      <th>0</th>\n",
       "      <td>9046</td>\n",
       "      <td>Male</td>\n",
       "      <td>67.0</td>\n",
       "      <td>0</td>\n",
       "      <td>1</td>\n",
       "      <td>Yes</td>\n",
       "      <td>Private</td>\n",
       "      <td>Urban</td>\n",
       "      <td>228.69</td>\n",
       "      <td>36.6</td>\n",
       "      <td>formerly smoked</td>\n",
       "      <td>1</td>\n",
       "    </tr>\n",
       "    <tr>\n",
       "      <th>1</th>\n",
       "      <td>51676</td>\n",
       "      <td>Female</td>\n",
       "      <td>61.0</td>\n",
       "      <td>0</td>\n",
       "      <td>0</td>\n",
       "      <td>Yes</td>\n",
       "      <td>Self-employed</td>\n",
       "      <td>Rural</td>\n",
       "      <td>202.21</td>\n",
       "      <td>NaN</td>\n",
       "      <td>never smoked</td>\n",
       "      <td>1</td>\n",
       "    </tr>\n",
       "    <tr>\n",
       "      <th>2</th>\n",
       "      <td>31112</td>\n",
       "      <td>Male</td>\n",
       "      <td>80.0</td>\n",
       "      <td>0</td>\n",
       "      <td>1</td>\n",
       "      <td>Yes</td>\n",
       "      <td>Private</td>\n",
       "      <td>Rural</td>\n",
       "      <td>105.92</td>\n",
       "      <td>32.5</td>\n",
       "      <td>never smoked</td>\n",
       "      <td>1</td>\n",
       "    </tr>\n",
       "    <tr>\n",
       "      <th>3</th>\n",
       "      <td>60182</td>\n",
       "      <td>Female</td>\n",
       "      <td>49.0</td>\n",
       "      <td>0</td>\n",
       "      <td>0</td>\n",
       "      <td>Yes</td>\n",
       "      <td>Private</td>\n",
       "      <td>Urban</td>\n",
       "      <td>171.23</td>\n",
       "      <td>34.4</td>\n",
       "      <td>smokes</td>\n",
       "      <td>1</td>\n",
       "    </tr>\n",
       "    <tr>\n",
       "      <th>4</th>\n",
       "      <td>1665</td>\n",
       "      <td>Female</td>\n",
       "      <td>79.0</td>\n",
       "      <td>1</td>\n",
       "      <td>0</td>\n",
       "      <td>Yes</td>\n",
       "      <td>Self-employed</td>\n",
       "      <td>Rural</td>\n",
       "      <td>174.12</td>\n",
       "      <td>24.0</td>\n",
       "      <td>never smoked</td>\n",
       "      <td>1</td>\n",
       "    </tr>\n",
       "  </tbody>\n",
       "</table>\n",
       "</div>"
      ],
      "text/plain": [
       "      id  gender   age  hypertension  heart_disease ever_married  \\\n",
       "0   9046    Male  67.0             0              1          Yes   \n",
       "1  51676  Female  61.0             0              0          Yes   \n",
       "2  31112    Male  80.0             0              1          Yes   \n",
       "3  60182  Female  49.0             0              0          Yes   \n",
       "4   1665  Female  79.0             1              0          Yes   \n",
       "\n",
       "       work_type Residence_type  avg_glucose_level   bmi   smoking_status  \\\n",
       "0        Private          Urban             228.69  36.6  formerly smoked   \n",
       "1  Self-employed          Rural             202.21   NaN     never smoked   \n",
       "2        Private          Rural             105.92  32.5     never smoked   \n",
       "3        Private          Urban             171.23  34.4           smokes   \n",
       "4  Self-employed          Rural             174.12  24.0     never smoked   \n",
       "\n",
       "   stroke  \n",
       "0       1  \n",
       "1       1  \n",
       "2       1  \n",
       "3       1  \n",
       "4       1  "
      ]
     },
     "execution_count": 3,
     "metadata": {},
     "output_type": "execute_result"
    }
   ],
   "source": [
    "data.head()"
   ]
  },
  {
   "cell_type": "code",
   "execution_count": 4,
   "metadata": {},
   "outputs": [
    {
     "data": {
      "text/plain": [
       "id                     0\n",
       "gender                 0\n",
       "age                    0\n",
       "hypertension           0\n",
       "heart_disease          0\n",
       "ever_married           0\n",
       "work_type              0\n",
       "Residence_type         0\n",
       "avg_glucose_level      0\n",
       "bmi                  201\n",
       "smoking_status         0\n",
       "stroke                 0\n",
       "dtype: int64"
      ]
     },
     "execution_count": 4,
     "metadata": {},
     "output_type": "execute_result"
    }
   ],
   "source": [
    "data.isnull().sum()"
   ]
  },
  {
   "cell_type": "code",
   "execution_count": 5,
   "metadata": {},
   "outputs": [],
   "source": [
    "data[\"bmi\"].fillna(data[\"bmi\"].mean(),inplace=True)"
   ]
  },
  {
   "cell_type": "code",
   "execution_count": 6,
   "metadata": {},
   "outputs": [
    {
     "data": {
      "text/plain": [
       "id                   0\n",
       "gender               0\n",
       "age                  0\n",
       "hypertension         0\n",
       "heart_disease        0\n",
       "ever_married         0\n",
       "work_type            0\n",
       "Residence_type       0\n",
       "avg_glucose_level    0\n",
       "bmi                  0\n",
       "smoking_status       0\n",
       "stroke               0\n",
       "dtype: int64"
      ]
     },
     "execution_count": 6,
     "metadata": {},
     "output_type": "execute_result"
    }
   ],
   "source": [
    "data.isnull().sum()"
   ]
  },
  {
   "cell_type": "code",
   "execution_count": 7,
   "metadata": {},
   "outputs": [
    {
     "name": "stdout",
     "output_type": "stream",
     "text": [
      "<class 'pandas.core.frame.DataFrame'>\n",
      "RangeIndex: 5110 entries, 0 to 5109\n",
      "Data columns (total 12 columns):\n",
      "id                   5110 non-null int64\n",
      "gender               5110 non-null object\n",
      "age                  5110 non-null float64\n",
      "hypertension         5110 non-null int64\n",
      "heart_disease        5110 non-null int64\n",
      "ever_married         5110 non-null object\n",
      "work_type            5110 non-null object\n",
      "Residence_type       5110 non-null object\n",
      "avg_glucose_level    5110 non-null float64\n",
      "bmi                  5110 non-null float64\n",
      "smoking_status       5110 non-null object\n",
      "stroke               5110 non-null int64\n",
      "dtypes: float64(3), int64(4), object(5)\n",
      "memory usage: 479.1+ KB\n"
     ]
    }
   ],
   "source": [
    "data.info()"
   ]
  },
  {
   "cell_type": "code",
   "execution_count": 8,
   "metadata": {},
   "outputs": [],
   "source": [
    "x=data.iloc[:,1:11]\n",
    "y=data.iloc[:,11]"
   ]
  },
  {
   "cell_type": "code",
   "execution_count": 9,
   "metadata": {},
   "outputs": [
    {
     "data": {
      "text/html": [
       "<div>\n",
       "<style scoped>\n",
       "    .dataframe tbody tr th:only-of-type {\n",
       "        vertical-align: middle;\n",
       "    }\n",
       "\n",
       "    .dataframe tbody tr th {\n",
       "        vertical-align: top;\n",
       "    }\n",
       "\n",
       "    .dataframe thead th {\n",
       "        text-align: right;\n",
       "    }\n",
       "</style>\n",
       "<table border=\"1\" class=\"dataframe\">\n",
       "  <thead>\n",
       "    <tr style=\"text-align: right;\">\n",
       "      <th></th>\n",
       "      <th>gender</th>\n",
       "      <th>age</th>\n",
       "      <th>hypertension</th>\n",
       "      <th>heart_disease</th>\n",
       "      <th>ever_married</th>\n",
       "      <th>work_type</th>\n",
       "      <th>Residence_type</th>\n",
       "      <th>avg_glucose_level</th>\n",
       "      <th>bmi</th>\n",
       "      <th>smoking_status</th>\n",
       "    </tr>\n",
       "  </thead>\n",
       "  <tbody>\n",
       "    <tr>\n",
       "      <th>0</th>\n",
       "      <td>Male</td>\n",
       "      <td>67.0</td>\n",
       "      <td>0</td>\n",
       "      <td>1</td>\n",
       "      <td>Yes</td>\n",
       "      <td>Private</td>\n",
       "      <td>Urban</td>\n",
       "      <td>228.69</td>\n",
       "      <td>36.600000</td>\n",
       "      <td>formerly smoked</td>\n",
       "    </tr>\n",
       "    <tr>\n",
       "      <th>1</th>\n",
       "      <td>Female</td>\n",
       "      <td>61.0</td>\n",
       "      <td>0</td>\n",
       "      <td>0</td>\n",
       "      <td>Yes</td>\n",
       "      <td>Self-employed</td>\n",
       "      <td>Rural</td>\n",
       "      <td>202.21</td>\n",
       "      <td>28.893237</td>\n",
       "      <td>never smoked</td>\n",
       "    </tr>\n",
       "    <tr>\n",
       "      <th>2</th>\n",
       "      <td>Male</td>\n",
       "      <td>80.0</td>\n",
       "      <td>0</td>\n",
       "      <td>1</td>\n",
       "      <td>Yes</td>\n",
       "      <td>Private</td>\n",
       "      <td>Rural</td>\n",
       "      <td>105.92</td>\n",
       "      <td>32.500000</td>\n",
       "      <td>never smoked</td>\n",
       "    </tr>\n",
       "    <tr>\n",
       "      <th>3</th>\n",
       "      <td>Female</td>\n",
       "      <td>49.0</td>\n",
       "      <td>0</td>\n",
       "      <td>0</td>\n",
       "      <td>Yes</td>\n",
       "      <td>Private</td>\n",
       "      <td>Urban</td>\n",
       "      <td>171.23</td>\n",
       "      <td>34.400000</td>\n",
       "      <td>smokes</td>\n",
       "    </tr>\n",
       "    <tr>\n",
       "      <th>4</th>\n",
       "      <td>Female</td>\n",
       "      <td>79.0</td>\n",
       "      <td>1</td>\n",
       "      <td>0</td>\n",
       "      <td>Yes</td>\n",
       "      <td>Self-employed</td>\n",
       "      <td>Rural</td>\n",
       "      <td>174.12</td>\n",
       "      <td>24.000000</td>\n",
       "      <td>never smoked</td>\n",
       "    </tr>\n",
       "  </tbody>\n",
       "</table>\n",
       "</div>"
      ],
      "text/plain": [
       "   gender   age  hypertension  heart_disease ever_married      work_type  \\\n",
       "0    Male  67.0             0              1          Yes        Private   \n",
       "1  Female  61.0             0              0          Yes  Self-employed   \n",
       "2    Male  80.0             0              1          Yes        Private   \n",
       "3  Female  49.0             0              0          Yes        Private   \n",
       "4  Female  79.0             1              0          Yes  Self-employed   \n",
       "\n",
       "  Residence_type  avg_glucose_level        bmi   smoking_status  \n",
       "0          Urban             228.69  36.600000  formerly smoked  \n",
       "1          Rural             202.21  28.893237     never smoked  \n",
       "2          Rural             105.92  32.500000     never smoked  \n",
       "3          Urban             171.23  34.400000           smokes  \n",
       "4          Rural             174.12  24.000000     never smoked  "
      ]
     },
     "execution_count": 9,
     "metadata": {},
     "output_type": "execute_result"
    }
   ],
   "source": [
    "x.head()"
   ]
  },
  {
   "cell_type": "code",
   "execution_count": 10,
   "metadata": {},
   "outputs": [
    {
     "data": {
      "text/plain": [
       "0    1\n",
       "1    1\n",
       "2    1\n",
       "3    1\n",
       "4    1\n",
       "Name: stroke, dtype: int64"
      ]
     },
     "execution_count": 10,
     "metadata": {},
     "output_type": "execute_result"
    }
   ],
   "source": [
    "y.head()"
   ]
  },
  {
   "cell_type": "code",
   "execution_count": 11,
   "metadata": {},
   "outputs": [],
   "source": [
    "x=data.iloc[:,1:11].values\n",
    "y=data.iloc[:,11].values"
   ]
  },
  {
   "cell_type": "code",
   "execution_count": 12,
   "metadata": {},
   "outputs": [],
   "source": [
    "from sklearn.preprocessing import OneHotEncoder\n",
    "from sklearn.compose import ColumnTransformer"
   ]
  },
  {
   "cell_type": "code",
   "execution_count": 13,
   "metadata": {},
   "outputs": [],
   "source": [
    "ct=ColumnTransformer([(\"oh\",OneHotEncoder(),[0,4,5,6,9])],remainder=\"passthrough\")"
   ]
  },
  {
   "cell_type": "code",
   "execution_count": 14,
   "metadata": {},
   "outputs": [],
   "source": [
    "x=ct.fit_transform(x)"
   ]
  },
  {
   "cell_type": "code",
   "execution_count": 15,
   "metadata": {},
   "outputs": [
    {
     "data": {
      "text/plain": [
       "(5110, 21)"
      ]
     },
     "execution_count": 15,
     "metadata": {},
     "output_type": "execute_result"
    }
   ],
   "source": [
    "x.shape"
   ]
  },
  {
   "cell_type": "code",
   "execution_count": 16,
   "metadata": {},
   "outputs": [],
   "source": [
    "from sklearn.model_selection import train_test_split\n",
    "x_train,x_test,y_train,y_test=train_test_split(x,y,test_size=0.2,random_state=0)\n"
   ]
  },
  {
   "cell_type": "code",
   "execution_count": 17,
   "metadata": {},
   "outputs": [],
   "source": [
    "from sklearn.preprocessing import StandardScaler\n",
    "sc=StandardScaler()\n",
    "x_train=sc.fit_transform(x_train)\n",
    "x_test=sc.fit_transform(x_test)\n"
   ]
  },
  {
   "cell_type": "code",
   "execution_count": 18,
   "metadata": {},
   "outputs": [],
   "source": [
    "from tensorflow.keras.models import Sequential\n",
    "from tensorflow.keras.layers import Dense"
   ]
  },
  {
   "cell_type": "code",
   "execution_count": 19,
   "metadata": {},
   "outputs": [],
   "source": [
    "ann=Sequential()"
   ]
  },
  {
   "cell_type": "code",
   "execution_count": 20,
   "metadata": {},
   "outputs": [
    {
     "name": "stdout",
     "output_type": "stream",
     "text": [
      "WARNING:tensorflow:From C:\\Users\\user\\Anaconda3\\lib\\site-packages\\tensorflow\\python\\keras\\initializers.py:119: calling RandomUniform.__init__ (from tensorflow.python.ops.init_ops) with dtype is deprecated and will be removed in a future version.\n",
      "Instructions for updating:\n",
      "Call initializer instance with the dtype argument instead of passing it to the constructor\n"
     ]
    }
   ],
   "source": [
    "ann.add(Dense(10,kernel_initializer=\"random_uniform\",activation=\"relu\"))"
   ]
  },
  {
   "cell_type": "code",
   "execution_count": 21,
   "metadata": {},
   "outputs": [],
   "source": [
    "ann.add(Dense(20,kernel_initializer=\"random_uniform\",activation=\"relu\"))"
   ]
  },
  {
   "cell_type": "code",
   "execution_count": 22,
   "metadata": {},
   "outputs": [],
   "source": [
    "ann.add(Dense(1,kernel_initializer=\"random_uniform\",activation=\"sigmoid\"))"
   ]
  },
  {
   "cell_type": "code",
   "execution_count": 23,
   "metadata": {},
   "outputs": [],
   "source": [
    "ann.compile(\"adam\",\"binary_crossentropy\",metrics=[\"accuracy\"])"
   ]
  },
  {
   "cell_type": "code",
   "execution_count": 24,
   "metadata": {},
   "outputs": [
    {
     "name": "stdout",
     "output_type": "stream",
     "text": [
      "WARNING:tensorflow:From C:\\Users\\user\\Anaconda3\\lib\\site-packages\\tensorflow\\python\\ops\\nn_impl.py:180: add_dispatch_support.<locals>.wrapper (from tensorflow.python.ops.array_ops) is deprecated and will be removed in a future version.\n",
      "Instructions for updating:\n",
      "Use tf.where in 2.0, which has the same broadcast rule as np.where\n",
      "Epoch 1/50\n",
      "4088/4088 [==============================] - 8s 2ms/sample - loss: 0.5150 - acc: 0.9469\n",
      "Epoch 2/50\n",
      "4088/4088 [==============================] - 1s 344us/sample - loss: 0.1808 - acc: 0.9523\n",
      "Epoch 3/50\n",
      "4088/4088 [==============================] - 1s 363us/sample - loss: 0.1636 - acc: 0.9523\n",
      "Epoch 4/50\n",
      "4088/4088 [==============================] - 2s 469us/sample - loss: 0.1595 - acc: 0.9523\n",
      "Epoch 5/50\n",
      "4088/4088 [==============================] - 2s 582us/sample - loss: 0.1567 - acc: 0.9523\n",
      "Epoch 6/50\n",
      "4088/4088 [==============================] - 3s 668us/sample - loss: 0.1548 - acc: 0.9523s - lo - ETA: 0s - loss: 0.1558 - acc: 0.951\n",
      "Epoch 7/50\n",
      "4088/4088 [==============================] - 3s 651us/sample - loss: 0.1531 - acc: 0.9523\n",
      "Epoch 8/50\n",
      "4088/4088 [==============================] - 3s 775us/sample - loss: 0.1520 - acc: 0.9523\n",
      "Epoch 9/50\n",
      "4088/4088 [==============================] - 4s 994us/sample - loss: 0.1505 - acc: 0.9523\n",
      "Epoch 10/50\n",
      "4088/4088 [==============================] - 4s 1ms/sample - loss: 0.1495 - acc: 0.9523\n",
      "Epoch 11/50\n",
      "4088/4088 [==============================] - 5s 1ms/sample - loss: 0.1487 - acc: 0.9523\n",
      "Epoch 12/50\n",
      "4088/4088 [==============================] - 3s 683us/sample - loss: 0.1478 - acc: 0.9523s - loss: 0.2147 -  - ETA: 2s - loss: 0.1681 - a - ETA: 1s - loss:\n",
      "Epoch 13/50\n",
      "4088/4088 [==============================] - 2s 482us/sample - loss: 0.1473 - acc: 0.9523\n",
      "Epoch 14/50\n",
      "4088/4088 [==============================] - 2s 502us/sample - loss: 0.1467 - acc: 0.9523\n",
      "Epoch 15/50\n",
      "4088/4088 [==============================] - 2s 479us/sample - loss: 0.1464 - acc: 0.9523\n",
      "Epoch 16/50\n",
      "4088/4088 [==============================] - 2s 492us/sample - loss: 0.1453 - acc: 0.9523s - loss: 0.1466 - acc: 0.9\n",
      "Epoch 17/50\n",
      "4088/4088 [==============================] - 3s 712us/sample - loss: 0.1452 - acc: 0.9523s - loss: 0.1501 - acc: 0.951 - E\n",
      "Epoch 18/50\n",
      "4088/4088 [==============================] - 4s 951us/sample - loss: 0.1448 - acc: 0.9523s - loss: 0.1412 \n",
      "Epoch 19/50\n",
      "4088/4088 [==============================] - 3s 838us/sample - loss: 0.1443 - acc: 0.9523s - loss: 0\n",
      "Epoch 20/50\n",
      "4088/4088 [==============================] - 5s 1ms/sample - loss: 0.1438 - acc: 0.9523\n",
      "Epoch 21/50\n",
      "4088/4088 [==============================] - 2s 500us/sample - loss: 0.1442 - acc: 0.9523\n",
      "Epoch 22/50\n",
      "4088/4088 [==============================] - 2s 506us/sample - loss: 0.1433 - acc: 0.9523\n",
      "Epoch 23/50\n",
      "4088/4088 [==============================] - 3s 776us/sample - loss: 0.1432 - acc: 0.9523s - loss: 0.1448 - acc:  - ETA: 0s - loss: 0.1432 - acc: 0\n",
      "Epoch 24/50\n",
      "4088/4088 [==============================] - 2s 516us/sample - loss: 0.1430 - acc: 0.9523\n",
      "Epoch 25/50\n",
      "4088/4088 [==============================] - 2s 533us/sample - loss: 0.1425 - acc: 0.9523\n",
      "Epoch 26/50\n",
      "4088/4088 [==============================] - 3s 708us/sample - loss: 0.1424 - acc: 0.9523s - loss: 0.1429 \n",
      "Epoch 27/50\n",
      "4088/4088 [==============================] - 2s 512us/sample - loss: 0.1422 - acc: 0.9523\n",
      "Epoch 28/50\n",
      "4088/4088 [==============================] - 1s 362us/sample - loss: 0.1421 - acc: 0.9523\n",
      "Epoch 29/50\n",
      "4088/4088 [==============================] - ETA: 0s - loss: 0.1431 - acc: 0.951 - 2s 425us/sample - loss: 0.1419 - acc: 0.9523\n",
      "Epoch 30/50\n",
      "4088/4088 [==============================] - 2s 447us/sample - loss: 0.1418 - acc: 0.9523\n",
      "Epoch 31/50\n",
      "4088/4088 [==============================] - 2s 390us/sample - loss: 0.1416 - acc: 0.9523\n",
      "Epoch 32/50\n",
      "4088/4088 [==============================] - 2s 367us/sample - loss: 0.1412 - acc: 0.9523\n",
      "Epoch 33/50\n",
      "4088/4088 [==============================] - 2s 508us/sample - loss: 0.1410 - acc: 0.9523s - loss: 0.1370 - acc: \n",
      "Epoch 34/50\n",
      "4088/4088 [==============================] - 2s 367us/sample - loss: 0.1410 - acc: 0.9523\n",
      "Epoch 35/50\n",
      "4088/4088 [==============================] - 2s 394us/sample - loss: 0.1405 - acc: 0.9523\n",
      "Epoch 36/50\n",
      "4088/4088 [==============================] - 1s 355us/sample - loss: 0.1403 - acc: 0.9523\n",
      "Epoch 37/50\n",
      "4088/4088 [==============================] - 2s 472us/sample - loss: 0.1402 - acc: 0.9523\n",
      "Epoch 38/50\n",
      "4088/4088 [==============================] - 2s 427us/sample - loss: 0.1399 - acc: 0.9523s - loss: 0.1457 - - ETA: 0s - loss: 0.1394 - acc: 0.95\n",
      "Epoch 39/50\n",
      "4088/4088 [==============================] - 3s 638us/sample - loss: 0.1399 - acc: 0.9523\n",
      "Epoch 40/50\n",
      "4088/4088 [==============================] - 4s 931us/sample - loss: 0.1395 - acc: 0.9523\n",
      "Epoch 41/50\n",
      "4088/4088 [==============================] - 2s 598us/sample - loss: 0.1390 - acc: 0.9523s - loss: 0.1248 -\n",
      "Epoch 42/50\n",
      "4088/4088 [==============================] - 3s 654us/sample - loss: 0.1392 - acc: 0.9523\n",
      "Epoch 43/50\n",
      "4088/4088 [==============================] - 3s 628us/sample - loss: 0.1392 - acc: 0.9525s \n",
      "Epoch 44/50\n",
      "4088/4088 [==============================] - 2s 578us/sample - loss: 0.1387 - acc: 0.9528\n",
      "Epoch 45/50\n",
      "4088/4088 [==============================] - 3s 694us/sample - loss: 0.1388 - acc: 0.9525\n",
      "Epoch 46/50\n",
      "4088/4088 [==============================] - 3s 625us/sample - loss: 0.1383 - acc: 0.9528s - lo\n",
      "Epoch 47/50\n",
      "4088/4088 [==============================] - 2s 602us/sample - loss: 0.1381 - acc: 0.9528\n",
      "Epoch 48/50\n",
      "4088/4088 [==============================] - 3s 640us/sample - loss: 0.1381 - acc: 0.9528s - loss: 0.1398 - a\n",
      "Epoch 49/50\n",
      "4088/4088 [==============================] - 3s 614us/sample - loss: 0.1376 - acc: 0.9528s - loss: 0.\n",
      "Epoch 50/50\n",
      "4088/4088 [==============================] - 3s 639us/sample - loss: 0.1374 - acc: 0.9533s - loss: 0.1319 - acc: - ETA: 0s - loss: 0.1330 - acc: \n"
     ]
    },
    {
     "data": {
      "text/plain": [
       "<tensorflow.python.keras.callbacks.History at 0x19b9bb20588>"
      ]
     },
     "execution_count": 24,
     "metadata": {},
     "output_type": "execute_result"
    }
   ],
   "source": [
    "ann.fit(x_train,y_train,batch_size=32,epochs=50)"
   ]
  },
  {
   "cell_type": "code",
   "execution_count": 25,
   "metadata": {},
   "outputs": [],
   "source": [
    "ypred=ann.predict(x_test)"
   ]
  },
  {
   "cell_type": "code",
   "execution_count": 26,
   "metadata": {},
   "outputs": [
    {
     "data": {
      "text/plain": [
       "array([[4.2619234e-01],\n",
       "       [1.1920929e-07],\n",
       "       [2.4664342e-02],\n",
       "       ...,\n",
       "       [1.0312527e-02],\n",
       "       [1.8730873e-01],\n",
       "       [8.7382030e-03]], dtype=float32)"
      ]
     },
     "execution_count": 26,
     "metadata": {},
     "output_type": "execute_result"
    }
   ],
   "source": [
    "ypred"
   ]
  },
  {
   "cell_type": "code",
   "execution_count": 27,
   "metadata": {},
   "outputs": [
    {
     "data": {
      "text/plain": [
       "array([1, 0, 0, ..., 0, 1, 0], dtype=int64)"
      ]
     },
     "execution_count": 27,
     "metadata": {},
     "output_type": "execute_result"
    }
   ],
   "source": [
    "y_test"
   ]
  },
  {
   "cell_type": "code",
   "execution_count": 28,
   "metadata": {},
   "outputs": [
    {
     "data": {
      "text/plain": [
       "array([[0.22756775]], dtype=float32)"
      ]
     },
     "execution_count": 28,
     "metadata": {},
     "output_type": "execute_result"
    }
   ],
   "source": [
    "yy=ann.predict(sc.transform(ct.transform([[\"Male\",67.0,0,1,\"Yes\",\"Private\",\"Urban\",228.69,36.6,\"formerly smoked\"]])))\n",
    "\n",
    "yy"
   ]
  },
  {
   "cell_type": "code",
   "execution_count": 31,
   "metadata": {},
   "outputs": [
    {
     "data": {
      "text/plain": [
       "array([[False]])"
      ]
     },
     "execution_count": 31,
     "metadata": {},
     "output_type": "execute_result"
    }
   ],
   "source": [
    "yy=ann.predict(sc.transform(ct.transform([[\"Male\",55,0,0,\"Yes\",\"Private\",\"Urban\",72.03,37,\"smokes\"]])))\n",
    "yy>0.5"
   ]
  },
  {
   "cell_type": "code",
   "execution_count": 32,
   "metadata": {},
   "outputs": [
    {
     "data": {
      "text/plain": [
       "array([[False]])"
      ]
     },
     "execution_count": 32,
     "metadata": {},
     "output_type": "execute_result"
    }
   ],
   "source": [
    "yy=ann.predict(sc.transform(ct.transform([[\"Female\",63,0,0,\"Yes\",\"Self-employed\",\"Rural\",75.93,34.7,\"formerly smoked\"]])))\n",
    "yy>0.5"
   ]
  },
  {
   "cell_type": "code",
   "execution_count": null,
   "metadata": {},
   "outputs": [],
   "source": []
  }
 ],
 "metadata": {
  "kernelspec": {
   "display_name": "Python 3",
   "language": "python",
   "name": "python3"
  },
  "language_info": {
   "codemirror_mode": {
    "name": "ipython",
    "version": 3
   },
   "file_extension": ".py",
   "mimetype": "text/x-python",
   "name": "python",
   "nbconvert_exporter": "python",
   "pygments_lexer": "ipython3",
   "version": "3.7.3"
  }
 },
 "nbformat": 4,
 "nbformat_minor": 2
}
